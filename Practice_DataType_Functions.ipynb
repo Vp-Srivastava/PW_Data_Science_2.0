{
 "cells": [
  {
   "cell_type": "code",
   "execution_count": 1,
   "id": "a5d05116-2ccb-4cf6-8533-59009c077cad",
   "metadata": {},
   "outputs": [],
   "source": [
    "a = 4+5j"
   ]
  },
  {
   "cell_type": "code",
   "execution_count": 2,
   "id": "a6f1ecce-319a-44e9-9c73-bf1e2164f55a",
   "metadata": {},
   "outputs": [
    {
     "data": {
      "text/plain": [
       "(4+5j)"
      ]
     },
     "execution_count": 2,
     "metadata": {},
     "output_type": "execute_result"
    }
   ],
   "source": [
    "a"
   ]
  },
  {
   "cell_type": "code",
   "execution_count": 5,
   "id": "00197177-168c-44ce-89c3-1b313dc48cc8",
   "metadata": {},
   "outputs": [
    {
     "data": {
      "text/plain": [
       "4.0"
      ]
     },
     "execution_count": 5,
     "metadata": {},
     "output_type": "execute_result"
    }
   ],
   "source": [
    "a.real"
   ]
  },
  {
   "cell_type": "code",
   "execution_count": 8,
   "id": "4dc8219b-1e55-49c9-b8b0-b3fe7e98cc6b",
   "metadata": {},
   "outputs": [
    {
     "data": {
      "text/plain": [
       "5.0"
      ]
     },
     "execution_count": 8,
     "metadata": {},
     "output_type": "execute_result"
    }
   ],
   "source": [
    "a.imag"
   ]
  },
  {
   "cell_type": "code",
   "execution_count": 9,
   "id": "3f98c7a3-7448-48f2-8605-cd196a67ba45",
   "metadata": {},
   "outputs": [],
   "source": [
    "s = \"this is my string Practice\""
   ]
  },
  {
   "cell_type": "code",
   "execution_count": 10,
   "id": "b752e857-058d-4328-8135-2e809951e5f1",
   "metadata": {},
   "outputs": [
    {
     "data": {
      "text/plain": [
       "'this is my string Practice'"
      ]
     },
     "execution_count": 10,
     "metadata": {},
     "output_type": "execute_result"
    }
   ],
   "source": [
    "s"
   ]
  },
  {
   "cell_type": "code",
   "execution_count": 12,
   "id": "ef66e4ae-a7b9-4b95-8e8b-d1f84d3953b7",
   "metadata": {},
   "outputs": [
    {
     "data": {
      "text/plain": [
       "3"
      ]
     },
     "execution_count": 12,
     "metadata": {},
     "output_type": "execute_result"
    }
   ],
   "source": [
    "s.find('s')#return first index of element"
   ]
  },
  {
   "cell_type": "code",
   "execution_count": 13,
   "id": "95290cbe-fd1d-4353-a13e-86e39829afaa",
   "metadata": {},
   "outputs": [
    {
     "data": {
      "text/plain": [
       "2"
      ]
     },
     "execution_count": 13,
     "metadata": {},
     "output_type": "execute_result"
    }
   ],
   "source": [
    "s.find('is')"
   ]
  },
  {
   "cell_type": "code",
   "execution_count": 14,
   "id": "799ff32e-8c91-4933-8568-c2ea198ba635",
   "metadata": {},
   "outputs": [
    {
     "data": {
      "text/plain": [
       "-1"
      ]
     },
     "execution_count": 14,
     "metadata": {},
     "output_type": "execute_result"
    }
   ],
   "source": [
    "s.find('z')#when element is not present in string it return -1"
   ]
  },
  {
   "cell_type": "code",
   "execution_count": 15,
   "id": "377e070a-b8a6-42cd-af4b-8ed894b345a2",
   "metadata": {},
   "outputs": [
    {
     "data": {
      "text/plain": [
       "'THIS IS MY STRING PRACTICE'"
      ]
     },
     "execution_count": 15,
     "metadata": {},
     "output_type": "execute_result"
    }
   ],
   "source": [
    "s.upper()"
   ]
  },
  {
   "cell_type": "code",
   "execution_count": 16,
   "id": "aafa28e4-50f8-4301-ae75-a85e02677279",
   "metadata": {},
   "outputs": [
    {
     "data": {
      "text/plain": [
       "'this is my string practice'"
      ]
     },
     "execution_count": 16,
     "metadata": {},
     "output_type": "execute_result"
    }
   ],
   "source": [
    "s.lower()"
   ]
  },
  {
   "cell_type": "code",
   "execution_count": 17,
   "id": "2b3d2484-8234-4a42-87fa-4dc5dfd11419",
   "metadata": {},
   "outputs": [
    {
     "data": {
      "text/plain": [
       "'This Is My String Practice'"
      ]
     },
     "execution_count": 17,
     "metadata": {},
     "output_type": "execute_result"
    }
   ],
   "source": [
    "s.title()"
   ]
  },
  {
   "cell_type": "code",
   "execution_count": 18,
   "id": "d63f2af0-017c-4950-8455-fe60eecfa14b",
   "metadata": {},
   "outputs": [
    {
     "data": {
      "text/plain": [
       "'This is my string practice'"
      ]
     },
     "execution_count": 18,
     "metadata": {},
     "output_type": "execute_result"
    }
   ],
   "source": [
    "s.capitalize()"
   ]
  },
  {
   "cell_type": "code",
   "execution_count": 22,
   "id": "a3fa71b0-823f-4f2e-b7fa-626c04109157",
   "metadata": {},
   "outputs": [
    {
     "data": {
      "text/plain": [
       "'this is my string Practice HELLOW'"
      ]
     },
     "execution_count": 22,
     "metadata": {},
     "output_type": "execute_result"
    }
   ],
   "source": [
    "s +\" \" + \"HELLOW\""
   ]
  },
  {
   "cell_type": "code",
   "execution_count": 23,
   "id": "a4d31169-6aa7-429c-adc8-5a84883106ce",
   "metadata": {},
   "outputs": [
    {
     "data": {
      "text/plain": [
       "'this is my string Practicethis is my string Practicethis is my string Practice'"
      ]
     },
     "execution_count": 23,
     "metadata": {},
     "output_type": "execute_result"
    }
   ],
   "source": [
    "s*3 #Multiplication is allowed"
   ]
  },
  {
   "cell_type": "markdown",
   "id": "f1e7affb-e730-4fb6-8da1-0a0b03febc32",
   "metadata": {},
   "source": [
    "Now List's practice\n",
    "String == store only tokens in \"\" or'' commas\n",
    "List == store all data type\n"
   ]
  },
  {
   "cell_type": "code",
   "execution_count": 24,
   "id": "96e6ebab-4d10-4eaa-9dd9-2c0b121de4b3",
   "metadata": {},
   "outputs": [],
   "source": [
    "l = [3,5,3,2,\"prajjwal\",\"lko\"]"
   ]
  },
  {
   "cell_type": "code",
   "execution_count": 25,
   "id": "5abd30ba-778d-49e0-aba4-f60a52886ffd",
   "metadata": {},
   "outputs": [
    {
     "data": {
      "text/plain": [
       "[3, 5, 3, 2, 'prajjwal', 'lko']"
      ]
     },
     "execution_count": 25,
     "metadata": {},
     "output_type": "execute_result"
    }
   ],
   "source": [
    "l"
   ]
  },
  {
   "cell_type": "code",
   "execution_count": 26,
   "id": "4dad2845-a687-4422-8e0e-aab8d5733987",
   "metadata": {},
   "outputs": [],
   "source": [
    "s = \"Uttar Pradesh\""
   ]
  },
  {
   "cell_type": "code",
   "execution_count": 31,
   "id": "10ceca9c-b9f8-41d0-bfae-9f9fd9fee329",
   "metadata": {},
   "outputs": [],
   "source": [
    "l1=list(s)# List function always iterate the string not as whole unit"
   ]
  },
  {
   "cell_type": "code",
   "execution_count": 32,
   "id": "ca54fb2c-0e1d-4112-a00b-e5159f3c7cde",
   "metadata": {},
   "outputs": [
    {
     "data": {
      "text/plain": [
       "['U', 't', 't', 'a', 'r', ' ', 'P', 'r', 'a', 'd', 'e', 's', 'h']"
      ]
     },
     "execution_count": 32,
     "metadata": {},
     "output_type": "execute_result"
    }
   ],
   "source": [
    "l1"
   ]
  },
  {
   "cell_type": "code",
   "execution_count": 29,
   "id": "9af32602-6c3d-4320-a8be-2ba36b25f30c",
   "metadata": {},
   "outputs": [
    {
     "ename": "TypeError",
     "evalue": "can only concatenate list (not \"str\") to list",
     "output_type": "error",
     "traceback": [
      "\u001b[0;31m---------------------------------------------------------------------------\u001b[0m",
      "\u001b[0;31mTypeError\u001b[0m                                 Traceback (most recent call last)",
      "Cell \u001b[0;32mIn[29], line 1\u001b[0m\n\u001b[0;32m----> 1\u001b[0m \u001b[43ml\u001b[49m\u001b[43m \u001b[49m\u001b[38;5;241;43m+\u001b[39;49m\u001b[43m \u001b[49m\u001b[43ms\u001b[49m\n",
      "\u001b[0;31mTypeError\u001b[0m: can only concatenate list (not \"str\") to list"
     ]
    }
   ],
   "source": [
    "l + s"
   ]
  },
  {
   "cell_type": "code",
   "execution_count": 30,
   "id": "e7d24a9b-eef8-47c9-9f4f-ffffbc7f83a5",
   "metadata": {},
   "outputs": [
    {
     "ename": "TypeError",
     "evalue": "can only concatenate list (not \"int\") to list",
     "output_type": "error",
     "traceback": [
      "\u001b[0;31m---------------------------------------------------------------------------\u001b[0m",
      "\u001b[0;31mTypeError\u001b[0m                                 Traceback (most recent call last)",
      "Cell \u001b[0;32mIn[30], line 1\u001b[0m\n\u001b[0;32m----> 1\u001b[0m \u001b[43ml\u001b[49m\u001b[43m \u001b[49m\u001b[38;5;241;43m+\u001b[39;49m\u001b[43m \u001b[49m\u001b[38;5;241;43m5\u001b[39;49m\n",
      "\u001b[0;31mTypeError\u001b[0m: can only concatenate list (not \"int\") to list"
     ]
    }
   ],
   "source": [
    "l + 5"
   ]
  },
  {
   "cell_type": "code",
   "execution_count": 33,
   "id": "29c50cca-0f92-4d99-b0ef-bdcab7774ae7",
   "metadata": {},
   "outputs": [
    {
     "data": {
      "text/plain": [
       "[3,\n",
       " 5,\n",
       " 3,\n",
       " 2,\n",
       " 'prajjwal',\n",
       " 'lko',\n",
       " 'U',\n",
       " 't',\n",
       " 't',\n",
       " 'a',\n",
       " 'r',\n",
       " ' ',\n",
       " 'P',\n",
       " 'r',\n",
       " 'a',\n",
       " 'd',\n",
       " 'e',\n",
       " 's',\n",
       " 'h']"
      ]
     },
     "execution_count": 33,
     "metadata": {},
     "output_type": "execute_result"
    }
   ],
   "source": [
    "l+l1"
   ]
  },
  {
   "cell_type": "code",
   "execution_count": 34,
   "id": "f632defb-092d-4e1e-b4fa-f16403119a6a",
   "metadata": {},
   "outputs": [
    {
     "ename": "TypeError",
     "evalue": "can't multiply sequence by non-int of type 'list'",
     "output_type": "error",
     "traceback": [
      "\u001b[0;31m---------------------------------------------------------------------------\u001b[0m",
      "\u001b[0;31mTypeError\u001b[0m                                 Traceback (most recent call last)",
      "Cell \u001b[0;32mIn[34], line 1\u001b[0m\n\u001b[0;32m----> 1\u001b[0m \u001b[43ml\u001b[49m\u001b[38;5;241;43m*\u001b[39;49m\u001b[43ml1\u001b[49m\n",
      "\u001b[0;31mTypeError\u001b[0m: can't multiply sequence by non-int of type 'list'"
     ]
    }
   ],
   "source": [
    "l*l1#tow list never multiply "
   ]
  },
  {
   "cell_type": "code",
   "execution_count": 35,
   "id": "e79d034e-226d-41f4-a208-0ae864555a8a",
   "metadata": {},
   "outputs": [
    {
     "data": {
      "text/plain": [
       "[3, 5, 3, 2, 'prajjwal', 'lko', 3, 5, 3, 2, 'prajjwal', 'lko']"
      ]
     },
     "execution_count": 35,
     "metadata": {},
     "output_type": "execute_result"
    }
   ],
   "source": [
    "l*2"
   ]
  },
  {
   "cell_type": "code",
   "execution_count": 37,
   "id": "5270e881-27d1-4c35-b475-31e2c7873ec8",
   "metadata": {},
   "outputs": [
    {
     "data": {
      "text/plain": [
       "6"
      ]
     },
     "execution_count": 37,
     "metadata": {},
     "output_type": "execute_result"
    }
   ],
   "source": [
    "len(l)"
   ]
  },
  {
   "cell_type": "code",
   "execution_count": 38,
   "id": "374db84e-85f8-4e4c-996f-e5ba4b556a16",
   "metadata": {},
   "outputs": [],
   "source": [
    "l.append(5) # it append into list at end Mainly use when we want to insert the integer"
   ]
  },
  {
   "cell_type": "code",
   "execution_count": 39,
   "id": "d692f443-654e-4c51-aeed-ae59f45786c5",
   "metadata": {},
   "outputs": [
    {
     "data": {
      "text/plain": [
       "[3, 5, 3, 2, 'prajjwal', 'lko', 5]"
      ]
     },
     "execution_count": 39,
     "metadata": {},
     "output_type": "execute_result"
    }
   ],
   "source": [
    "l"
   ]
  },
  {
   "cell_type": "code",
   "execution_count": 41,
   "id": "77d132bd-0090-4201-834f-7630c1f309fc",
   "metadata": {},
   "outputs": [],
   "source": [
    "l.append(\"PW\")"
   ]
  },
  {
   "cell_type": "code",
   "execution_count": 42,
   "id": "3d8d9027-18f8-454b-8787-8e3eec24043c",
   "metadata": {},
   "outputs": [
    {
     "data": {
      "text/plain": [
       "[3, 5, 3, 2, 'prajjwal', 'lko', 5, 'PW']"
      ]
     },
     "execution_count": 42,
     "metadata": {},
     "output_type": "execute_result"
    }
   ],
   "source": [
    "l"
   ]
  },
  {
   "cell_type": "code",
   "execution_count": 43,
   "id": "c23a05b8-ee79-4bd4-acb8-656d6ce7021b",
   "metadata": {},
   "outputs": [],
   "source": [
    "l.append(l1)"
   ]
  },
  {
   "cell_type": "code",
   "execution_count": 44,
   "id": "0a3b41d4-2bda-4df6-95ce-5b13ce23750e",
   "metadata": {},
   "outputs": [
    {
     "data": {
      "text/plain": [
       "[3,\n",
       " 5,\n",
       " 3,\n",
       " 2,\n",
       " 'prajjwal',\n",
       " 'lko',\n",
       " 5,\n",
       " 'PW',\n",
       " ['U', 't', 't', 'a', 'r', ' ', 'P', 'r', 'a', 'd', 'e', 's', 'h']]"
      ]
     },
     "execution_count": 44,
     "metadata": {},
     "output_type": "execute_result"
    }
   ],
   "source": [
    "l"
   ]
  },
  {
   "cell_type": "code",
   "execution_count": 45,
   "id": "23ab0c17-0297-4acd-ba6a-68c9bd99027b",
   "metadata": {},
   "outputs": [],
   "source": [
    "l.extend(\"LUCKNOW\")#add data at end of list"
   ]
  },
  {
   "cell_type": "code",
   "execution_count": 46,
   "id": "c27b0505-2047-4336-89e5-14ac9f929099",
   "metadata": {},
   "outputs": [
    {
     "data": {
      "text/plain": [
       "[3,\n",
       " 5,\n",
       " 3,\n",
       " 2,\n",
       " 'prajjwal',\n",
       " 'lko',\n",
       " 5,\n",
       " 'PW',\n",
       " ['U', 't', 't', 'a', 'r', ' ', 'P', 'r', 'a', 'd', 'e', 's', 'h'],\n",
       " 'L',\n",
       " 'U',\n",
       " 'C',\n",
       " 'K',\n",
       " 'N',\n",
       " 'O',\n",
       " 'W']"
      ]
     },
     "execution_count": 46,
     "metadata": {},
     "output_type": "execute_result"
    }
   ],
   "source": [
    "l"
   ]
  },
  {
   "cell_type": "code",
   "execution_count": 49,
   "id": "2c18cfc2-32f3-4d2d-ae4e-8eb03634646d",
   "metadata": {},
   "outputs": [],
   "source": [
    "l.insert(5,\"srivastava\")#insert value at desire position into the iist\n",
    "                        # it insert index at 5 but it shift stored data 5+1 index"
   ]
  },
  {
   "cell_type": "code",
   "execution_count": 50,
   "id": "974b4511-1964-4ddb-9645-d63a53d9f046",
   "metadata": {},
   "outputs": [
    {
     "data": {
      "text/plain": [
       "[3,\n",
       " 5,\n",
       " 3,\n",
       " 2,\n",
       " 'prajjwal',\n",
       " 'srivastava',\n",
       " 'lko',\n",
       " 'srivastava',\n",
       " 5,\n",
       " 'PW',\n",
       " ['U', 't', 't', 'a', 'r', ' ', 'P', 'r', 'a', 'd', 'e', 's', 'h'],\n",
       " 'L',\n",
       " 'U',\n",
       " 'C',\n",
       " 'K',\n",
       " 'N',\n",
       " 'O',\n",
       " 'W']"
      ]
     },
     "execution_count": 50,
     "metadata": {},
     "output_type": "execute_result"
    }
   ],
   "source": [
    "l"
   ]
  },
  {
   "cell_type": "code",
   "execution_count": 52,
   "id": "e47e6fec-8d12-4034-b585-e5618a841f32",
   "metadata": {},
   "outputs": [],
   "source": [
    "l.remove(\"srivastava\") #it remove value of list which first occure\n",
    "                        #if delete the value from list"
   ]
  },
  {
   "cell_type": "code",
   "execution_count": 52,
   "id": "93abb8a3-85d4-4edd-b4ca-ee7e0d475f12",
   "metadata": {},
   "outputs": [],
   "source": [
    "l.remove(\"srivastava\") #it remove value of list first\n",
    "                        #if delete the value from list"
   ]
  },
  {
   "cell_type": "code",
   "execution_count": 53,
   "id": "8065abd4-21a7-49d9-8a2b-bd526e5d7d46",
   "metadata": {},
   "outputs": [
    {
     "data": {
      "text/plain": [
       "[3,\n",
       " 5,\n",
       " 3,\n",
       " 2,\n",
       " 'prajjwal',\n",
       " 'lko',\n",
       " 'srivastava',\n",
       " 5,\n",
       " 'PW',\n",
       " ['U', 't', 't', 'a', 'r', ' ', 'P', 'r', 'a', 'd', 'e', 's', 'h'],\n",
       " 'L',\n",
       " 'U',\n",
       " 'C',\n",
       " 'K',\n",
       " 'N',\n",
       " 'O',\n",
       " 'W']"
      ]
     },
     "execution_count": 53,
     "metadata": {},
     "output_type": "execute_result"
    }
   ],
   "source": [
    "l"
   ]
  },
  {
   "cell_type": "code",
   "execution_count": 57,
   "id": "2c8b3069-dbb6-4b71-a82c-952aff08ee64",
   "metadata": {},
   "outputs": [
    {
     "data": {
      "text/plain": [
       "'PW'"
      ]
     },
     "execution_count": 57,
     "metadata": {},
     "output_type": "execute_result"
    }
   ],
   "source": [
    "l.pop(5)#it delet the data from list how many time it will call\n",
    "        #it takes the index and remove the data of that perticular index"
   ]
  },
  {
   "cell_type": "code",
   "execution_count": 58,
   "id": "aa0c7cf9-62ba-4eba-a8a6-a147ab217b75",
   "metadata": {},
   "outputs": [
    {
     "data": {
      "text/plain": [
       "[3,\n",
       " 5,\n",
       " 3,\n",
       " 'prajjwal',\n",
       " 5,\n",
       " ['U', 't', 't', 'a', 'r', ' ', 'P', 'r', 'a', 'd', 'e', 's', 'h'],\n",
       " 'L',\n",
       " 'U',\n",
       " 'C',\n",
       " 'K',\n",
       " 'N',\n",
       " 'O',\n",
       " 'W']"
      ]
     },
     "execution_count": 58,
     "metadata": {},
     "output_type": "execute_result"
    }
   ],
   "source": [
    "l"
   ]
  },
  {
   "cell_type": "code",
   "execution_count": 59,
   "id": "7a85f2cf-a5b8-40c6-ac20-16f0fe5168dd",
   "metadata": {},
   "outputs": [],
   "source": [
    "l2 = [45,\"prajjwal\",4]"
   ]
  },
  {
   "cell_type": "code",
   "execution_count": 60,
   "id": "64a7e737-2ded-4114-9e50-9a5cd42d07cc",
   "metadata": {},
   "outputs": [
    {
     "data": {
      "text/plain": [
       "[45, 'prajjwal', 4]"
      ]
     },
     "execution_count": 60,
     "metadata": {},
     "output_type": "execute_result"
    }
   ],
   "source": [
    "l2"
   ]
  },
  {
   "cell_type": "code",
   "execution_count": 61,
   "id": "48fba100-e1cd-4a61-9d34-d90d5e80ca35",
   "metadata": {},
   "outputs": [],
   "source": [
    "l3 = [4,5,3,2]"
   ]
  },
  {
   "cell_type": "code",
   "execution_count": 62,
   "id": "7bcfdeeb-4f00-451d-ba32-b21361d24a12",
   "metadata": {},
   "outputs": [
    {
     "data": {
      "text/plain": [
       "[4, 5, 3, 2]"
      ]
     },
     "execution_count": 62,
     "metadata": {},
     "output_type": "execute_result"
    }
   ],
   "source": [
    "l3"
   ]
  },
  {
   "cell_type": "code",
   "execution_count": 63,
   "id": "eff0483d-4e3f-4880-b588-bffdcdfd992a",
   "metadata": {},
   "outputs": [],
   "source": [
    "l2.append(l3)"
   ]
  },
  {
   "cell_type": "code",
   "execution_count": 64,
   "id": "dc947d93-66fe-435c-b032-8403003a71de",
   "metadata": {},
   "outputs": [
    {
     "data": {
      "text/plain": [
       "[45, 'prajjwal', 4, [4, 5, 3, 2]]"
      ]
     },
     "execution_count": 64,
     "metadata": {},
     "output_type": "execute_result"
    }
   ],
   "source": [
    "l2"
   ]
  },
  {
   "cell_type": "code",
   "execution_count": 65,
   "id": "4bf096b0-799b-406a-a79e-7f22710de959",
   "metadata": {},
   "outputs": [
    {
     "data": {
      "text/plain": [
       "[4, 5, 3, 2]"
      ]
     },
     "execution_count": 65,
     "metadata": {},
     "output_type": "execute_result"
    }
   ],
   "source": [
    "l2[3] #first access the nested list using index"
   ]
  },
  {
   "cell_type": "code",
   "execution_count": 77,
   "id": "2089847f-5bb4-44b8-b9db-cd18799df5ac",
   "metadata": {},
   "outputs": [],
   "source": [
    "l2[3].remove(2)#then we can romove the element of nested element"
   ]
  },
  {
   "cell_type": "code",
   "execution_count": 78,
   "id": "575c54ec-2281-4261-94ae-358ec9c72a38",
   "metadata": {},
   "outputs": [
    {
     "data": {
      "text/plain": [
       "[45, 'prajjwal', 4, [4, 5, 3]]"
      ]
     },
     "execution_count": 78,
     "metadata": {},
     "output_type": "execute_result"
    }
   ],
   "source": [
    "l2#now element 2 of nested list has removed"
   ]
  },
  {
   "cell_type": "code",
   "execution_count": 79,
   "id": "4381f748-b56e-47bb-b8fc-060c95bc445d",
   "metadata": {},
   "outputs": [
    {
     "data": {
      "text/plain": [
       "[45, 'prajjwal', 4, [4, 5, 3]]"
      ]
     },
     "execution_count": 79,
     "metadata": {},
     "output_type": "execute_result"
    }
   ],
   "source": [
    "l2"
   ]
  },
  {
   "cell_type": "code",
   "execution_count": 80,
   "id": "c511c16c-b4fa-4551-97a4-c463cbd000d3",
   "metadata": {},
   "outputs": [
    {
     "data": {
      "text/plain": [
       "[[4, 5, 3], 4, 'prajjwal', 45]"
      ]
     },
     "execution_count": 80,
     "metadata": {},
     "output_type": "execute_result"
    }
   ],
   "source": [
    "l2[::-1]#tempary reverse original list is not reverse"
   ]
  },
  {
   "cell_type": "code",
   "execution_count": 81,
   "id": "dabbc5c0-eb3c-442d-8f8a-88a136c154d9",
   "metadata": {},
   "outputs": [],
   "source": [
    "l2.reverse() # it is permanent reverse"
   ]
  },
  {
   "cell_type": "code",
   "execution_count": 82,
   "id": "001a2731-a3a5-44a2-9a80-c71224b17f32",
   "metadata": {},
   "outputs": [
    {
     "data": {
      "text/plain": [
       "[[4, 5, 3], 4, 'prajjwal', 45]"
      ]
     },
     "execution_count": 82,
     "metadata": {},
     "output_type": "execute_result"
    }
   ],
   "source": [
    "l2"
   ]
  },
  {
   "cell_type": "code",
   "execution_count": 83,
   "id": "6ac27281-5534-456f-9f71-bddf4df05737",
   "metadata": {},
   "outputs": [],
   "source": [
    "nl = [3,4,5,33,43,2,5,33,55,0]"
   ]
  },
  {
   "cell_type": "code",
   "execution_count": 86,
   "id": "f7f7f13f-800f-4f8b-b569-d5bbc735919b",
   "metadata": {},
   "outputs": [],
   "source": [
    "nl.sort()#permanent sort\n",
    "#by default it uses mergesort becuase its time comlexity is less than all other sorting algo"
   ]
  },
  {
   "cell_type": "code",
   "execution_count": 85,
   "id": "8851e0c8-abef-4a67-a8a4-49610423ded6",
   "metadata": {},
   "outputs": [
    {
     "data": {
      "text/plain": [
       "[0, 2, 3, 4, 5, 5, 33, 33, 43, 55]"
      ]
     },
     "execution_count": 85,
     "metadata": {},
     "output_type": "execute_result"
    }
   ],
   "source": [
    "nl"
   ]
  },
  {
   "cell_type": "code",
   "execution_count": 87,
   "id": "f5193b94-1067-47e8-9384-ae6de84a6f7a",
   "metadata": {},
   "outputs": [],
   "source": [
    "l4 = [\"prajjwal\",\"srivastava\",\"itaunja\",\"lucknow\"]"
   ]
  },
  {
   "cell_type": "code",
   "execution_count": 88,
   "id": "4c003bc2-29ab-43b8-aeb5-a6fb18cad478",
   "metadata": {},
   "outputs": [],
   "source": [
    "l4.sort()#sort ascending according alphabetic order"
   ]
  },
  {
   "cell_type": "code",
   "execution_count": 89,
   "id": "6d9f5d44-7b33-4d82-8250-fe5230f5bebb",
   "metadata": {},
   "outputs": [
    {
     "data": {
      "text/plain": [
       "['itaunja', 'lucknow', 'prajjwal', 'srivastava']"
      ]
     },
     "execution_count": 89,
     "metadata": {},
     "output_type": "execute_result"
    }
   ],
   "source": [
    "l4"
   ]
  },
  {
   "cell_type": "code",
   "execution_count": 91,
   "id": "3b3af215-e493-4b6a-a551-c9c45ebd9e47",
   "metadata": {},
   "outputs": [],
   "source": [
    "l4.sort(reverse=True)#sort in decending order"
   ]
  },
  {
   "cell_type": "code",
   "execution_count": 92,
   "id": "a22ac9d8-4154-4207-af58-321c1db2c741",
   "metadata": {},
   "outputs": [
    {
     "data": {
      "text/plain": [
       "['srivastava', 'prajjwal', 'lucknow', 'itaunja']"
      ]
     },
     "execution_count": 92,
     "metadata": {},
     "output_type": "execute_result"
    }
   ],
   "source": [
    "l4"
   ]
  },
  {
   "cell_type": "code",
   "execution_count": 95,
   "id": "2b4f93e6-67b2-43ec-847c-63c35710d272",
   "metadata": {},
   "outputs": [
    {
     "data": {
      "text/plain": [
       "1"
      ]
     },
     "execution_count": 95,
     "metadata": {},
     "output_type": "execute_result"
    }
   ],
   "source": [
    "l4.count(\"prajjwal\")"
   ]
  },
  {
   "cell_type": "code",
   "execution_count": 96,
   "id": "2fa6d722-bc41-415a-9cca-a4e7fbef0b3b",
   "metadata": {},
   "outputs": [
    {
     "data": {
      "text/plain": [
       "0"
      ]
     },
     "execution_count": 96,
     "metadata": {},
     "output_type": "execute_result"
    }
   ],
   "source": [
    "l4.count(\"p\")"
   ]
  },
  {
   "cell_type": "code",
   "execution_count": 97,
   "id": "53b1d4c5-b16b-4124-a1c0-ecc6a9f0717e",
   "metadata": {},
   "outputs": [],
   "source": [
    "s=\"Prajjwal\"\n",
    "l5 = [3,4,5,3]"
   ]
  },
  {
   "cell_type": "code",
   "execution_count": 98,
   "id": "84e71540-d2af-4f1e-9b48-9a828d9da75a",
   "metadata": {},
   "outputs": [
    {
     "ename": "TypeError",
     "evalue": "'str' object does not support item assignment",
     "output_type": "error",
     "traceback": [
      "\u001b[0;31m---------------------------------------------------------------------------\u001b[0m",
      "\u001b[0;31mTypeError\u001b[0m                                 Traceback (most recent call last)",
      "Cell \u001b[0;32mIn[98], line 1\u001b[0m\n\u001b[0;32m----> 1\u001b[0m \u001b[43ms\u001b[49m\u001b[43m[\u001b[49m\u001b[38;5;241;43m0\u001b[39;49m\u001b[43m]\u001b[49m \u001b[38;5;241m=\u001b[39m \u001b[38;5;124m'\u001b[39m\u001b[38;5;124mp\u001b[39m\u001b[38;5;124m'\u001b[39m\n",
      "\u001b[0;31mTypeError\u001b[0m: 'str' object does not support item assignment"
     ]
    }
   ],
   "source": [
    "s[0] = 'p'  #not immutable it will throw the error"
   ]
  },
  {
   "cell_type": "code",
   "execution_count": 99,
   "id": "61fcbffa-4445-414e-b800-deb59923da70",
   "metadata": {},
   "outputs": [],
   "source": [
    "l5[0]='p'#list is mutable"
   ]
  },
  {
   "cell_type": "code",
   "execution_count": 100,
   "id": "b5e8cd75-bd19-4695-9bc8-9142959849ef",
   "metadata": {},
   "outputs": [
    {
     "data": {
      "text/plain": [
       "['p', 4, 5, 3]"
      ]
     },
     "execution_count": 100,
     "metadata": {},
     "output_type": "execute_result"
    }
   ],
   "source": [
    "l5"
   ]
  },
  {
   "cell_type": "code",
   "execution_count": 101,
   "id": "df9a566e-5692-4e85-8ad4-01f8abcceadb",
   "metadata": {},
   "outputs": [
    {
     "data": {
      "text/plain": [
       "'prajjwal'"
      ]
     },
     "execution_count": 101,
     "metadata": {},
     "output_type": "execute_result"
    }
   ],
   "source": [
    "s.replace('P','p')#it generate new clone object with replacement\n",
    "                #no change will in original string"
   ]
  },
  {
   "cell_type": "code",
   "execution_count": 102,
   "id": "29e462a1-e574-4ef5-a67a-20b5160c6615",
   "metadata": {},
   "outputs": [
    {
     "data": {
      "text/plain": [
       "'Prajjwal'"
      ]
     },
     "execution_count": 102,
     "metadata": {},
     "output_type": "execute_result"
    }
   ],
   "source": [
    "s # here no chenge is here"
   ]
  },
  {
   "cell_type": "markdown",
   "id": "754d9748-5185-45f8-a0f3-cacb2550a8d2",
   "metadata": {},
   "source": [
    "# Tuple DataType"
   ]
  },
  {
   "cell_type": "code",
   "execution_count": 103,
   "id": "7fb7da57-dd3f-4756-b381-968e7bfda143",
   "metadata": {},
   "outputs": [],
   "source": [
    "t = (3,5,\"prajjwal\",3+4j,[4,3,5]) "
   ]
  },
  {
   "cell_type": "code",
   "execution_count": 104,
   "id": "82b7c2f3-bc65-4241-a9d8-7460e4e4ae1a",
   "metadata": {},
   "outputs": [
    {
     "data": {
      "text/plain": [
       "(3, 5, 'prajjwal', (3+4j), [4, 3, 5])"
      ]
     },
     "execution_count": 104,
     "metadata": {},
     "output_type": "execute_result"
    }
   ],
   "source": [
    "t # it can store any data type like list"
   ]
  },
  {
   "cell_type": "code",
   "execution_count": 105,
   "id": "1ebea5b3-fbf4-4eab-a457-f07c08f7ddec",
   "metadata": {},
   "outputs": [
    {
     "data": {
      "text/plain": [
       "tuple"
      ]
     },
     "execution_count": 105,
     "metadata": {},
     "output_type": "execute_result"
    }
   ],
   "source": [
    "type(t)"
   ]
  },
  {
   "cell_type": "code",
   "execution_count": 106,
   "id": "cf3517b1-81c1-4941-b31c-454a76e07814",
   "metadata": {},
   "outputs": [
    {
     "data": {
      "text/plain": [
       "5"
      ]
     },
     "execution_count": 106,
     "metadata": {},
     "output_type": "execute_result"
    }
   ],
   "source": [
    "len(t)"
   ]
  },
  {
   "cell_type": "markdown",
   "id": "41333866-d010-4a0b-b208-c64fe4df073c",
   "metadata": {},
   "source": [
    "#indexing and slicing concept similar like list and string"
   ]
  },
  {
   "cell_type": "code",
   "execution_count": 107,
   "id": "e0cd99cc-6a66-49a9-a6f9-ca173c7660a9",
   "metadata": {},
   "outputs": [
    {
     "ename": "TypeError",
     "evalue": "'tuple' object does not support item assignment",
     "output_type": "error",
     "traceback": [
      "\u001b[0;31m---------------------------------------------------------------------------\u001b[0m",
      "\u001b[0;31mTypeError\u001b[0m                                 Traceback (most recent call last)",
      "Cell \u001b[0;32mIn[107], line 1\u001b[0m\n\u001b[0;32m----> 1\u001b[0m \u001b[43mt\u001b[49m\u001b[43m[\u001b[49m\u001b[38;5;241;43m4\u001b[39;49m\u001b[43m]\u001b[49m\u001b[38;5;241m=\u001b[39m\u001b[38;5;124m\"\u001b[39m\u001b[38;5;124m4\u001b[39m\u001b[38;5;124m\"\u001b[39m\n",
      "\u001b[0;31mTypeError\u001b[0m: 'tuple' object does not support item assignment"
     ]
    }
   ],
   "source": [
    "t[4]=\"4\" #object assignment not support like string, thow error\n",
    "\n",
    "        #this data type use where we require to store that data which no one can change\n",
    "        #Like = passward"
   ]
  },
  {
   "cell_type": "code",
   "execution_count": 108,
   "id": "b49e8ef7-1ef8-45b1-97ee-f6297e374abd",
   "metadata": {},
   "outputs": [
    {
     "data": {
      "text/plain": [
       "([4, 3, 5], (3+4j), 'prajjwal', 5, 3)"
      ]
     },
     "execution_count": 108,
     "metadata": {},
     "output_type": "execute_result"
    }
   ],
   "source": [
    "t[::-1]"
   ]
  },
  {
   "cell_type": "code",
   "execution_count": 109,
   "id": "b0b8e7a9-7fed-4c01-bda8-2c9c9dee6f74",
   "metadata": {},
   "outputs": [
    {
     "data": {
      "text/plain": [
       "0"
      ]
     },
     "execution_count": 109,
     "metadata": {},
     "output_type": "execute_result"
    }
   ],
   "source": [
    "t.count(4)"
   ]
  },
  {
   "cell_type": "code",
   "execution_count": 110,
   "id": "0c6378a0-ee33-47eb-835c-6b8fe25e34c9",
   "metadata": {},
   "outputs": [
    {
     "data": {
      "text/plain": [
       "1"
      ]
     },
     "execution_count": 110,
     "metadata": {},
     "output_type": "execute_result"
    }
   ],
   "source": [
    "t.count(3)"
   ]
  },
  {
   "cell_type": "code",
   "execution_count": 111,
   "id": "9f4b8531-ebc5-4a3a-b25b-9666698b7290",
   "metadata": {},
   "outputs": [
    {
     "data": {
      "text/plain": [
       "1"
      ]
     },
     "execution_count": 111,
     "metadata": {},
     "output_type": "execute_result"
    }
   ],
   "source": [
    "t.index(5)"
   ]
  },
  {
   "cell_type": "markdown",
   "id": "dc278128-bc04-41f1-a9a0-766f882f7d67",
   "metadata": {},
   "source": [
    "## Now start Set"
   ]
  },
  {
   "cell_type": "code",
   "execution_count": 112,
   "id": "2ce417bf-3ce0-42f0-88ee-cb79744d9ad8",
   "metadata": {},
   "outputs": [],
   "source": [
    "s1 = {}"
   ]
  },
  {
   "cell_type": "code",
   "execution_count": 113,
   "id": "de862c68-418e-441a-8d91-c6442c786a10",
   "metadata": {},
   "outputs": [
    {
     "data": {
      "text/plain": [
       "dict"
      ]
     },
     "execution_count": 113,
     "metadata": {},
     "output_type": "execute_result"
    }
   ],
   "source": [
    "type(s1) #it understand as dictionary"
   ]
  },
  {
   "cell_type": "code",
   "execution_count": 114,
   "id": "7f9da4c7-d07f-473c-a932-20c99d20c2ba",
   "metadata": {},
   "outputs": [],
   "source": [
    "s2 = {4,3,53,5,3,3,5}"
   ]
  },
  {
   "cell_type": "code",
   "execution_count": 115,
   "id": "dbfc3dea-dcb8-4b0c-a472-ba34d7196fef",
   "metadata": {},
   "outputs": [
    {
     "data": {
      "text/plain": [
       "{3, 4, 5, 53}"
      ]
     },
     "execution_count": 115,
     "metadata": {},
     "output_type": "execute_result"
    }
   ],
   "source": [
    "s2 #print only unique value"
   ]
  },
  {
   "cell_type": "code",
   "execution_count": 116,
   "id": "ef1d0cad-93f5-435d-a3f7-a4d0318c3fa3",
   "metadata": {},
   "outputs": [
    {
     "data": {
      "text/plain": [
       "set"
      ]
     },
     "execution_count": 116,
     "metadata": {},
     "output_type": "execute_result"
    }
   ],
   "source": [
    "type(s2) #return type will \"SET\""
   ]
  },
  {
   "cell_type": "markdown",
   "id": "55f995f4-7bb6-4ebe-8f2f-3d52a0015943",
   "metadata": {},
   "source": [
    "# set usses when we want to remove the duplicate data but it built unorder collection of unique data"
   ]
  },
  {
   "cell_type": "code",
   "execution_count": 117,
   "id": "9e1cfbf7-5e24-4b4e-afbb-d805a543d831",
   "metadata": {},
   "outputs": [],
   "source": [
    "s3 = {3,4,3,5,4,6,4,3,22,32,22,4,3,5} #it can store every datatype like tupe and list"
   ]
  },
  {
   "cell_type": "code",
   "execution_count": 118,
   "id": "d6b672a5-a062-4955-ac23-c0e4976a2c7f",
   "metadata": {},
   "outputs": [
    {
     "data": {
      "text/plain": [
       "{3, 4, 5, 6, 22, 32}"
      ]
     },
     "execution_count": 118,
     "metadata": {},
     "output_type": "execute_result"
    }
   ],
   "source": [
    "s3"
   ]
  },
  {
   "cell_type": "code",
   "execution_count": 119,
   "id": "91f3d6d7-1036-4ceb-b41d-c541ca51c4bb",
   "metadata": {},
   "outputs": [
    {
     "data": {
      "text/plain": [
       "{3, 4, 5, 6, 22, 32}"
      ]
     },
     "execution_count": 119,
     "metadata": {},
     "output_type": "execute_result"
    }
   ],
   "source": [
    "s3"
   ]
  },
  {
   "cell_type": "code",
   "execution_count": 120,
   "id": "2d18a8cc-80ae-45d0-8b7a-904ba61503e6",
   "metadata": {},
   "outputs": [],
   "source": [
    "s4 = {4,3,5,3,\"prajjwal\",\"itj\",34,33}"
   ]
  },
  {
   "cell_type": "code",
   "execution_count": 121,
   "id": "ede5583a-0529-4612-b33b-d2ede2d1e885",
   "metadata": {},
   "outputs": [
    {
     "data": {
      "text/plain": [
       "{3, 33, 34, 4, 5, 'itj', 'prajjwal'}"
      ]
     },
     "execution_count": 121,
     "metadata": {},
     "output_type": "execute_result"
    }
   ],
   "source": [
    "s4 #unorder return"
   ]
  },
  {
   "cell_type": "markdown",
   "id": "d3e65855-03e2-4b80-881b-3eea6540a6ab",
   "metadata": {},
   "source": [
    "# SET has noe indexing and slicing like - tuple,list and string. It uses hashing "
   ]
  },
  {
   "cell_type": "code",
   "execution_count": 123,
   "id": "c7fee79f-f1b0-4c1a-b41d-7fbb7a0a6a57",
   "metadata": {},
   "outputs": [
    {
     "data": {
      "text/plain": [
       "{3, 33, 34, 4, 5, 'itj', 'prajjwal'}"
      ]
     },
     "execution_count": 123,
     "metadata": {},
     "output_type": "execute_result"
    }
   ],
   "source": [
    "s4"
   ]
  },
  {
   "cell_type": "code",
   "execution_count": 126,
   "id": "e184a586-c8fe-40a8-b92f-30677427927d",
   "metadata": {},
   "outputs": [],
   "source": [
    "s4.add(2)"
   ]
  },
  {
   "cell_type": "code",
   "execution_count": 127,
   "id": "bd9a49e6-057b-4831-8864-1f8ea231a7dd",
   "metadata": {},
   "outputs": [
    {
     "data": {
      "text/plain": [
       "{2, 3, 33, 34, 4, 5, 'itj', 'prajjwal'}"
      ]
     },
     "execution_count": 127,
     "metadata": {},
     "output_type": "execute_result"
    }
   ],
   "source": [
    "s4"
   ]
  },
  {
   "cell_type": "code",
   "execution_count": null,
   "id": "2c3e8608-6066-42f8-8d3e-fb16a8d5d992",
   "metadata": {},
   "outputs": [],
   "source": []
  }
 ],
 "metadata": {
  "kernelspec": {
   "display_name": "Python 3 (ipykernel)",
   "language": "python",
   "name": "python3"
  },
  "language_info": {
   "codemirror_mode": {
    "name": "ipython",
    "version": 3
   },
   "file_extension": ".py",
   "mimetype": "text/x-python",
   "name": "python",
   "nbconvert_exporter": "python",
   "pygments_lexer": "ipython3",
   "version": "3.10.8"
  }
 },
 "nbformat": 4,
 "nbformat_minor": 5
}
