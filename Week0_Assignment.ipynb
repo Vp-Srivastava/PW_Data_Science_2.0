{
 "cells": [
  {
   "cell_type": "markdown",
   "id": "40df422f-9b3d-4850-a98e-d94b6f6a0d3c",
   "metadata": {},
   "source": [
    "Q1. Create one variable containing following type of data:\n",
    "(i) string\n",
    "(ii) list\n",
    "(iii) float\n",
    "(iv) tuple"
   ]
  },
  {
   "cell_type": "code",
   "execution_count": 1,
   "id": "ffb4b074-08ec-4555-b7bf-26fc569288a7",
   "metadata": {},
   "outputs": [],
   "source": [
    "a=[1,'35','Prajjwal', 4.35,'(vivek)',3+5j ]"
   ]
  },
  {
   "cell_type": "code",
   "execution_count": 2,
   "id": "34c4153c-fda8-4cdf-91f3-dba3edf9c1e9",
   "metadata": {},
   "outputs": [
    {
     "data": {
      "text/plain": [
       "['1', '35', 'Prajjwal', '4.35', '(vivek)']"
      ]
     },
     "execution_count": 2,
     "metadata": {},
     "output_type": "execute_result"
    }
   ],
   "source": [
    "a"
   ]
  },
  {
   "cell_type": "markdown",
   "id": "1daed761-5aaa-4ee8-9652-4f70455edd81",
   "metadata": {},
   "source": [
    "Q2. Given are some following variables containing data:\n",
    "(i) var1 = ‘ ‘\n",
    "(ii) var2 = ‘[ DS , ML , Python]’\n",
    "(iii) var3 = [ ‘DS’ , ’ML’ , ‘Python’ ]\n",
    "(iv) var4 = 1\n",
    "What will be the data type of the above given variable."
   ]
  },
  {
   "cell_type": "code",
   "execution_count": 3,
   "id": "0742706c-35b5-451f-a98f-01c49d485aa2",
   "metadata": {},
   "outputs": [],
   "source": [
    "var1=' '"
   ]
  },
  {
   "cell_type": "code",
   "execution_count": 4,
   "id": "ec3ba384-f360-4c78-8dc1-efceb25ecf9d",
   "metadata": {},
   "outputs": [
    {
     "data": {
      "text/plain": [
       "str"
      ]
     },
     "execution_count": 4,
     "metadata": {},
     "output_type": "execute_result"
    }
   ],
   "source": [
    "type(var1)"
   ]
  },
  {
   "cell_type": "code",
   "execution_count": 5,
   "id": "34f0410a-3b5c-4df7-93f8-60bb56998878",
   "metadata": {},
   "outputs": [],
   "source": [
    "var2='[ DS,ML,Python]'"
   ]
  },
  {
   "cell_type": "code",
   "execution_count": 6,
   "id": "70ba266f-9e88-4a1f-8290-f5a44dfe822e",
   "metadata": {},
   "outputs": [
    {
     "data": {
      "text/plain": [
       "str"
      ]
     },
     "execution_count": 6,
     "metadata": {},
     "output_type": "execute_result"
    }
   ],
   "source": [
    "type(var2)"
   ]
  },
  {
   "cell_type": "code",
   "execution_count": 7,
   "id": "144b472a-8e6d-4427-8dea-b4397e7c4dfa",
   "metadata": {},
   "outputs": [],
   "source": [
    "var3=['DS\",\"ML','Python']\n"
   ]
  },
  {
   "cell_type": "code",
   "execution_count": 8,
   "id": "c64c6f5b-e2fa-456f-ace5-449e73489e0e",
   "metadata": {},
   "outputs": [
    {
     "data": {
      "text/plain": [
       "list"
      ]
     },
     "execution_count": 8,
     "metadata": {},
     "output_type": "execute_result"
    }
   ],
   "source": [
    "type(var3)"
   ]
  },
  {
   "cell_type": "code",
   "execution_count": 9,
   "id": "16c3ef64-9dcc-4bc5-be90-88b383430901",
   "metadata": {},
   "outputs": [],
   "source": [
    "var4=1"
   ]
  },
  {
   "cell_type": "code",
   "execution_count": 10,
   "id": "cab7a5b7-a297-4081-b079-13dfadb2c80b",
   "metadata": {},
   "outputs": [
    {
     "data": {
      "text/plain": [
       "int"
      ]
     },
     "execution_count": 10,
     "metadata": {},
     "output_type": "execute_result"
    }
   ],
   "source": [
    "type(var4)"
   ]
  },
  {
   "cell_type": "markdown",
   "id": "83051962-175d-40d7-9b26-bbcb3f1e94b4",
   "metadata": {},
   "source": [
    "Q3. Explain the use of the following operators using an example:\n",
    "(i) /\n",
    "(ii) %\n",
    "(iii) //\n",
    "(iv) **"
   ]
  },
  {
   "cell_type": "code",
   "execution_count": 11,
   "id": "1970dbed-c131-4d97-8fce-33a47cdcd178",
   "metadata": {},
   "outputs": [],
   "source": [
    "a=10#/divsion operator\n",
    "b=5\n",
    "c=a/b"
   ]
  },
  {
   "cell_type": "code",
   "execution_count": 12,
   "id": "f71b1420-9397-4fdc-9c3e-aa2523a3fbae",
   "metadata": {},
   "outputs": [
    {
     "data": {
      "text/plain": [
       "2.0"
      ]
     },
     "execution_count": 12,
     "metadata": {},
     "output_type": "execute_result"
    }
   ],
   "source": [
    "c"
   ]
  },
  {
   "cell_type": "code",
   "execution_count": 13,
   "id": "dcf8ccf2-b392-4d9d-88d4-1ef6fab6f4d9",
   "metadata": {},
   "outputs": [],
   "source": [
    "c=a//b#Floor division"
   ]
  },
  {
   "cell_type": "code",
   "execution_count": 14,
   "id": "17d3236f-af15-4a24-a13d-c5b2cbef7107",
   "metadata": {},
   "outputs": [
    {
     "data": {
      "text/plain": [
       "2"
      ]
     },
     "execution_count": 14,
     "metadata": {},
     "output_type": "execute_result"
    }
   ],
   "source": [
    "c"
   ]
  },
  {
   "cell_type": "code",
   "execution_count": 15,
   "id": "787153a1-7cfa-4244-ab90-16437a140e5f",
   "metadata": {},
   "outputs": [],
   "source": [
    "c=a&b#modulo operator"
   ]
  },
  {
   "cell_type": "code",
   "execution_count": 16,
   "id": "2e1a5b90-9a4c-4e57-8bf8-3218b7c26d5e",
   "metadata": {},
   "outputs": [
    {
     "data": {
      "text/plain": [
       "0"
      ]
     },
     "execution_count": 16,
     "metadata": {},
     "output_type": "execute_result"
    }
   ],
   "source": [
    "c"
   ]
  },
  {
   "cell_type": "code",
   "execution_count": 17,
   "id": "3e786b73-3221-4cfe-9723-cf86cc61db10",
   "metadata": {},
   "outputs": [],
   "source": [
    "c=a**b"
   ]
  },
  {
   "cell_type": "code",
   "execution_count": 18,
   "id": "38b17e3d-db9f-48f2-8186-3441c15e1814",
   "metadata": {},
   "outputs": [
    {
     "data": {
      "text/plain": [
       "100000"
      ]
     },
     "execution_count": 18,
     "metadata": {},
     "output_type": "execute_result"
    }
   ],
   "source": [
    "c"
   ]
  },
  {
   "cell_type": "markdown",
   "id": "3f6beb3f-a35e-43b4-84eb-3e5e12b8698a",
   "metadata": {},
   "source": [
    "Q4. Create a list of length 10 of your choice containing multiple types of data. Using for loop print the\n",
    "element and its data type."
   ]
  },
  {
   "cell_type": "code",
   "execution_count": 19,
   "id": "eef640bb-1158-4694-97fb-7f5942547675",
   "metadata": {},
   "outputs": [
    {
     "name": "stdout",
     "output_type": "stream",
     "text": [
      "12 <class 'int'>\n",
      "prajjwal <class 'str'>\n",
      "3.43 <class 'float'>\n",
      "(name) <class 'str'>\n",
      "{key:value} <class 'str'>\n",
      "2 <class 'int'>\n",
      "lk <class 'str'>\n",
      "34.3 <class 'float'>\n",
      "0.003 <class 'str'>\n",
      "4.g <class 'str'>\n"
     ]
    }
   ],
   "source": [
    "l=[12,'prajjwal',3.43,'(name)','{key:value}',(2),'lk',34.3,'0.003','4.g']\n",
    "for i in l:\n",
    "    print(i,type(i))\n"
   ]
  },
  {
   "cell_type": "markdown",
   "id": "15021715-b701-4219-9e51-f1033c5b7044",
   "metadata": {},
   "source": [
    "Q5. Using a while loop, verify if the number A is purely divisible by number B and if so then how many\n",
    "times it can be divisible."
   ]
  },
  {
   "cell_type": "code",
   "execution_count": null,
   "id": "6cb3fa52-2310-4c8a-96fe-0d32958cb086",
   "metadata": {},
   "outputs": [],
   "source": [
    "a=int(input())\n",
    "b=int(input())\n",
    "while b>=0:\n",
    "    if a%b ==0:\n",
    "        i=a/b\n",
    "        print(i)\n",
    "        break\n",
    "    "
   ]
  },
  {
   "cell_type": "markdown",
   "id": "5d79e21f-60c7-4cfa-95f4-edac9a30f857",
   "metadata": {},
   "source": [
    "Q6. Create a list containing 25 int type data. Using for loop and if-else condition print if the element is\n",
    "divisible by 3 or not."
   ]
  },
  {
   "cell_type": "code",
   "execution_count": null,
   "id": "e7d0c354-1ed0-46fa-9936-17e9027fb560",
   "metadata": {},
   "outputs": [],
   "source": [
    "import random\n",
    "\n",
    "l=[]\n",
    "n=25\n",
    "for i in range(1,n+1):\n",
    "    l.append(random.randint(1,100))\n",
    "print(l)\n",
    "for i in l:\n",
    "    if i%3==0:\n",
    "        print(\"YES\")\n",
    "    else:\n",
    "        print(\"NO\")"
   ]
  },
  {
   "cell_type": "markdown",
   "id": "7980a6ef-abf8-4f55-8a34-46bf0a770f4f",
   "metadata": {},
   "source": [
    "Q7. What do you understand about mutable and immutable data types? Give examples for both showing\n",
    "this property."
   ]
  },
  {
   "cell_type": "markdown",
   "id": "938cf913-42a0-4b54-9a59-1c63da768c77",
   "metadata": {},
   "source": [
    "Mutable = Assignment is allow in data set::   \n",
    "Immutable= Assignment is not allow in data set"
   ]
  },
  {
   "cell_type": "code",
   "execution_count": null,
   "id": "cd6e8e2b-b9cf-42bb-b663-85435d448b9d",
   "metadata": {},
   "outputs": [],
   "source": [
    "s='Prajjwal'\n",
    "l=['Vivek','srivastava',21,'Lucknow']\n",
    "print(s)\n",
    "print(l)\n",
    "l[3]='Noida'\n",
    "print(l,\"after updation. Update successfully its mean list is mutable data type\")\n",
    "s[3]='V'\n",
    "print(\"It will through an error ['str' object does not support item assignment]\")\n",
    "print(s)#String is not mutable\n",
    "    "
   ]
  },
  {
   "cell_type": "code",
   "execution_count": null,
   "id": "d42f370c-143d-45d8-b37e-c21bafdc2142",
   "metadata": {},
   "outputs": [],
   "source": []
  }
 ],
 "metadata": {
  "kernelspec": {
   "display_name": "Python 3 (ipykernel)",
   "language": "python",
   "name": "python3"
  },
  "language_info": {
   "codemirror_mode": {
    "name": "ipython",
    "version": 3
   },
   "file_extension": ".py",
   "mimetype": "text/x-python",
   "name": "python",
   "nbconvert_exporter": "python",
   "pygments_lexer": "ipython3",
   "version": "3.10.8"
  }
 },
 "nbformat": 4,
 "nbformat_minor": 5
}
