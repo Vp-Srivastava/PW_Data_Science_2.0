{
 "cells": [
  {
   "cell_type": "markdown",
   "id": "3f78fab0-e03c-4495-b1ff-aac6be3d6918",
   "metadata": {},
   "source": [
    "# Practice Dictionary"
   ]
  },
  {
   "cell_type": "code",
   "execution_count": 1,
   "id": "cd2bb0be-354d-4e45-82a8-999ed099d344",
   "metadata": {},
   "outputs": [],
   "source": [
    "d = {}"
   ]
  },
  {
   "cell_type": "code",
   "execution_count": 2,
   "id": "c92928d4-0e56-42b7-b8e5-6f2f4b558f10",
   "metadata": {},
   "outputs": [
    {
     "data": {
      "text/plain": [
       "dict"
      ]
     },
     "execution_count": 2,
     "metadata": {},
     "output_type": "execute_result"
    }
   ],
   "source": [
    "type(d)"
   ]
  },
  {
   "cell_type": "code",
   "execution_count": 3,
   "id": "7793dbe2-f526-4389-a477-532d93f0c887",
   "metadata": {},
   "outputs": [],
   "source": [
    "d1 = {4,3,5,\"Prajjwal\"} #store linear data so it understand as set"
   ]
  },
  {
   "cell_type": "code",
   "execution_count": 5,
   "id": "cfefec5b-6290-4ba6-8c1e-e63b884e6354",
   "metadata": {},
   "outputs": [
    {
     "data": {
      "text/plain": [
       "{3, 4, 5, 'Prajjwal'}"
      ]
     },
     "execution_count": 5,
     "metadata": {},
     "output_type": "execute_result"
    }
   ],
   "source": [
    "d1"
   ]
  },
  {
   "cell_type": "code",
   "execution_count": 6,
   "id": "65b94c14-97d3-4d10-8c49-dc8b43177db6",
   "metadata": {},
   "outputs": [
    {
     "data": {
      "text/plain": [
       "set"
      ]
     },
     "execution_count": 6,
     "metadata": {},
     "output_type": "execute_result"
    }
   ],
   "source": [
    "type(d1)"
   ]
  },
  {
   "cell_type": "code",
   "execution_count": 7,
   "id": "59405ecf-4730-450c-ae89-c3f281af4c97",
   "metadata": {},
   "outputs": [],
   "source": [
    "d2={'key':'value'} # when store in key value form then it understand as dictionary"
   ]
  },
  {
   "cell_type": "code",
   "execution_count": 8,
   "id": "288042ab-07cc-4ca1-9370-310ebd9e7457",
   "metadata": {},
   "outputs": [
    {
     "data": {
      "text/plain": [
       "{'key': 'value'}"
      ]
     },
     "execution_count": 8,
     "metadata": {},
     "output_type": "execute_result"
    }
   ],
   "source": [
    "d2"
   ]
  },
  {
   "cell_type": "code",
   "execution_count": 10,
   "id": "404c0f33-00b3-4a06-a22c-95cf883e8d2d",
   "metadata": {},
   "outputs": [],
   "source": [
    "d3 = {'name':'Prajjwal','email':'vpsrivastava8@gmail.com','phone_number':8953738981}"
   ]
  },
  {
   "cell_type": "code",
   "execution_count": 11,
   "id": "86796e71-45f3-4fbc-9cf1-898cb2e0e272",
   "metadata": {},
   "outputs": [
    {
     "data": {
      "text/plain": [
       "{'name': 'Prajjwal',\n",
       " 'email': 'vpsrivastava8@gmail.com',\n",
       " 'phone_number': 8953738981}"
      ]
     },
     "execution_count": 11,
     "metadata": {},
     "output_type": "execute_result"
    }
   ],
   "source": [
    "d3"
   ]
  },
  {
   "cell_type": "code",
   "execution_count": 13,
   "id": "9cb6ca29-1fd3-4173-85b7-d8d168600335",
   "metadata": {},
   "outputs": [
    {
     "ename": "SyntaxError",
     "evalue": "invalid syntax (1667633621.py, line 1)",
     "output_type": "error",
     "traceback": [
      "\u001b[0;36m  Cell \u001b[0;32mIn[13], line 1\u001b[0;36m\u001b[0m\n\u001b[0;31m    d3 = {234:\"vivek\", @var:\"srivastava\"}\u001b[0m\n\u001b[0m                       ^\u001b[0m\n\u001b[0;31mSyntaxError\u001b[0m\u001b[0;31m:\u001b[0m invalid syntax\n"
     ]
    }
   ],
   "source": [
    "d3 = {234:\"vivek\", @var:\"srivastava\"} \n",
    "#when key cannnot use any special character(#,@,!,$<%,_) except key is a string\n"
   ]
  },
  {
   "cell_type": "code",
   "execution_count": 14,
   "id": "050e49a8-b8e1-4375-8f34-ea8c685d075f",
   "metadata": {},
   "outputs": [],
   "source": [
    "d4 = {234:\"prajjwal\",\"@var\":339292912}"
   ]
  },
  {
   "cell_type": "code",
   "execution_count": 15,
   "id": "81d6a258-47ab-49dd-9f4a-b2ff2ae1b4ef",
   "metadata": {},
   "outputs": [
    {
     "data": {
      "text/plain": [
       "{234: 'prajjwal', '@var': 339292912}"
      ]
     },
     "execution_count": 15,
     "metadata": {},
     "output_type": "execute_result"
    }
   ],
   "source": [
    "d4"
   ]
  },
  {
   "cell_type": "code",
   "execution_count": 16,
   "id": "c1cffa0a-915a-4bc5-b557-009df674b5c3",
   "metadata": {},
   "outputs": [],
   "source": [
    "d5 = {234:\"prajjwal\",'@_VAR':\"SRIVASTAVA\", True:3443}"
   ]
  },
  {
   "cell_type": "code",
   "execution_count": 17,
   "id": "8aadb678-6146-4f23-9015-9c41b59a8458",
   "metadata": {},
   "outputs": [
    {
     "data": {
      "text/plain": [
       "{234: 'prajjwal', '@_VAR': 'SRIVASTAVA', True: 3443}"
      ]
     },
     "execution_count": 17,
     "metadata": {},
     "output_type": "execute_result"
    }
   ],
   "source": [
    "d5"
   ]
  },
  {
   "cell_type": "code",
   "execution_count": 19,
   "id": "44465a15-64a3-4c28-8fe7-4d0031904d44",
   "metadata": {},
   "outputs": [
    {
     "data": {
      "text/plain": [
       "'SRIVASTAVA'"
      ]
     },
     "execution_count": 19,
     "metadata": {},
     "output_type": "execute_result"
    }
   ],
   "source": [
    "d5['@_VAR'] #value can acces using key"
   ]
  },
  {
   "cell_type": "code",
   "execution_count": 22,
   "id": "c7d548cf-1dc4-42cd-b5b2-984e628ea2eb",
   "metadata": {},
   "outputs": [
    {
     "data": {
      "text/plain": [
       "3443"
      ]
     },
     "execution_count": 22,
     "metadata": {},
     "output_type": "execute_result"
    }
   ],
   "source": [
    "d5[True]"
   ]
  },
  {
   "cell_type": "code",
   "execution_count": 23,
   "id": "d9309451-f2e3-46b6-a61f-1446b2f27c23",
   "metadata": {},
   "outputs": [
    {
     "data": {
      "text/plain": [
       "3443"
      ]
     },
     "execution_count": 23,
     "metadata": {},
     "output_type": "execute_result"
    }
   ],
   "source": [
    "d5[1]# 1 as consider as True and True is the key in d5 dict....."
   ]
  },
  {
   "cell_type": "code",
   "execution_count": 25,
   "id": "b4f15dca-d7c9-479d-a8d4-96a3a0576ac5",
   "metadata": {},
   "outputs": [],
   "source": [
    "d6 = {'name':\"vivek\",\"e-mail\":'vpsrivastava8' , \"name\":\"prajjwal\"} #if key is repeat then it will be override by last value"
   ]
  },
  {
   "cell_type": "code",
   "execution_count": 26,
   "id": "87490014-cf36-4912-bef1-7735e7d9fe6a",
   "metadata": {},
   "outputs": [
    {
     "data": {
      "text/plain": [
       "{'name': 'prajjwal', 'e-mail': 'vpsrivastava8'}"
      ]
     },
     "execution_count": 26,
     "metadata": {},
     "output_type": "execute_result"
    }
   ],
   "source": [
    "d6 #Name vivek override by prajjwal"
   ]
  },
  {
   "cell_type": "code",
   "execution_count": 2,
   "id": "9f3a769b-59c4-43c6-816e-e4da10414d1a",
   "metadata": {},
   "outputs": [],
   "source": [
    "d7={'company':\"pwskills\",\"courses\":[\"web dev\",\"data science\",\"java with dsa system design\"]}"
   ]
  },
  {
   "cell_type": "code",
   "execution_count": 3,
   "id": "f5f1e4f2-779a-4eab-81df-8be786e2923a",
   "metadata": {},
   "outputs": [
    {
     "data": {
      "text/plain": [
       "{'company': 'pwskills',\n",
       " 'courses': ['web dev', 'data science', 'java with dsa system design']}"
      ]
     },
     "execution_count": 3,
     "metadata": {},
     "output_type": "execute_result"
    }
   ],
   "source": [
    "d7"
   ]
  },
  {
   "cell_type": "code",
   "execution_count": 6,
   "id": "fd0df3ef-7f80-41c8-8fb8-02d312f53fed",
   "metadata": {},
   "outputs": [
    {
     "data": {
      "text/plain": [
       "['web dev', 'data science', 'java with dsa system design']"
      ]
     },
     "execution_count": 6,
     "metadata": {},
     "output_type": "execute_result"
    }
   ],
   "source": [
    "d7['courses']"
   ]
  },
  {
   "cell_type": "code",
   "execution_count": 7,
   "id": "704ef906-7d7b-4c16-b1e5-73e6d5bb0a58",
   "metadata": {},
   "outputs": [
    {
     "data": {
      "text/plain": [
       "'data science'"
      ]
     },
     "execution_count": 7,
     "metadata": {},
     "output_type": "execute_result"
    }
   ],
   "source": [
    "d7['courses'][1] #index value of list = [1]"
   ]
  },
  {
   "cell_type": "code",
   "execution_count": 8,
   "id": "f9204291-331e-4a89-a55d-431b8363f3d4",
   "metadata": {},
   "outputs": [],
   "source": [
    "d8 = {'number':[3,2,34,54,3],'assignment':(3,34,5,3,7),'launch_data':{28,4,6}}"
   ]
  },
  {
   "cell_type": "code",
   "execution_count": 9,
   "id": "babf7db8-f1b9-40c9-8a4d-b78cfdd6cc05",
   "metadata": {},
   "outputs": [
    {
     "data": {
      "text/plain": [
       "{'number': [3, 2, 34, 54, 3],\n",
       " 'assignment': (3, 34, 5, 3, 7),\n",
       " 'launch_data': {4, 6, 28}}"
      ]
     },
     "execution_count": 9,
     "metadata": {},
     "output_type": "execute_result"
    }
   ],
   "source": [
    "d8 # as value we can store any datatype like LIST, TUPLE, SET, and DICTIONAry itself"
   ]
  },
  {
   "cell_type": "code",
   "execution_count": 10,
   "id": "188c2abf-d4e9-436a-86b7-d09efd282964",
   "metadata": {},
   "outputs": [],
   "source": [
    "d9 = {'list':[3,23,4,33,34],'set':{3,2,4,8},'string':\"prajjwal\",'tuple':(3,4,3),\"dictionary\":{'key':'value'}}"
   ]
  },
  {
   "cell_type": "code",
   "execution_count": 11,
   "id": "fde585e7-3cf0-48fc-9ac5-1e8d62641695",
   "metadata": {},
   "outputs": [
    {
     "data": {
      "text/plain": [
       "{'list': [3, 23, 4, 33, 34],\n",
       " 'set': {2, 3, 4, 8},\n",
       " 'string': 'prajjwal',\n",
       " 'tuple': (3, 4, 3),\n",
       " 'dictionary': {'key': 'value'}}"
      ]
     },
     "execution_count": 11,
     "metadata": {},
     "output_type": "execute_result"
    }
   ],
   "source": [
    "d9 # it store dictionary itself"
   ]
  },
  {
   "cell_type": "code",
   "execution_count": 12,
   "id": "ce90e332-740f-4ec7-af99-d95ddf572eef",
   "metadata": {},
   "outputs": [],
   "source": [
    "d9['mentor']=['awadh ojha','divya keerti sir'] #add new key in dictionary"
   ]
  },
  {
   "cell_type": "code",
   "execution_count": 13,
   "id": "1b8c50e7-d390-4983-a898-6006c21b9b6a",
   "metadata": {},
   "outputs": [
    {
     "data": {
      "text/plain": [
       "{'list': [3, 23, 4, 33, 34],\n",
       " 'set': {2, 3, 4, 8},\n",
       " 'string': 'prajjwal',\n",
       " 'tuple': (3, 4, 3),\n",
       " 'dictionary': {'key': 'value'},\n",
       " 'mentor': ['awadh ojha', 'divya keerti sir']}"
      ]
     },
     "execution_count": 13,
     "metadata": {},
     "output_type": "execute_result"
    }
   ],
   "source": [
    "d9"
   ]
  },
  {
   "cell_type": "code",
   "execution_count": 15,
   "id": "63876a68-10bc-4245-82bb-78772447183c",
   "metadata": {},
   "outputs": [],
   "source": [
    "del d9['mentor']"
   ]
  },
  {
   "cell_type": "code",
   "execution_count": 16,
   "id": "d12f7efa-83b8-4d27-ac64-c3a629939923",
   "metadata": {},
   "outputs": [
    {
     "data": {
      "text/plain": [
       "{'list': [3, 23, 4, 33, 34],\n",
       " 'set': {2, 3, 4, 8},\n",
       " 'string': 'prajjwal',\n",
       " 'tuple': (3, 4, 3),\n",
       " 'dictionary': {'key': 'value'}}"
      ]
     },
     "execution_count": 16,
     "metadata": {},
     "output_type": "execute_result"
    }
   ],
   "source": [
    "d9"
   ]
  },
  {
   "cell_type": "code",
   "execution_count": 18,
   "id": "5ebf1c84-e389-4f58-8a0b-4d3490b1daf4",
   "metadata": {},
   "outputs": [
    {
     "data": {
      "text/plain": [
       "dict_keys(['list', 'set', 'string', 'tuple', 'dictionary'])"
      ]
     },
     "execution_count": 18,
     "metadata": {},
     "output_type": "execute_result"
    }
   ],
   "source": [
    "d9.keys()# return the all key value of dictinary"
   ]
  },
  {
   "cell_type": "code",
   "execution_count": 20,
   "id": "fa89caeb-1ff2-4f3e-92da-70d40b8b7675",
   "metadata": {},
   "outputs": [
    {
     "data": {
      "text/plain": [
       "dict_values([[3, 23, 4, 33, 34], {8, 2, 3, 4}, 'prajjwal', (3, 4, 3), {'key': 'value'}])"
      ]
     },
     "execution_count": 20,
     "metadata": {},
     "output_type": "execute_result"
    }
   ],
   "source": [
    "d9.values() # return the value of all keys"
   ]
  },
  {
   "cell_type": "code",
   "execution_count": 21,
   "id": "c50a97b6-a05c-4260-b4f3-b285c3a912b0",
   "metadata": {},
   "outputs": [
    {
     "data": {
      "text/plain": [
       "[('list', [3, 23, 4, 33, 34]),\n",
       " ('set', {2, 3, 4, 8}),\n",
       " ('string', 'prajjwal'),\n",
       " ('tuple', (3, 4, 3)),\n",
       " ('dictionary', {'key': 'value'})]"
      ]
     },
     "execution_count": 21,
     "metadata": {},
     "output_type": "execute_result"
    }
   ],
   "source": [
    "list(d9.items()) #return value and keys both"
   ]
  },
  {
   "cell_type": "code",
   "execution_count": 22,
   "id": "32ac28dd-90bf-4c38-a45f-2a21759fbf61",
   "metadata": {},
   "outputs": [
    {
     "data": {
      "text/plain": [
       "[3, 23, 4, 33, 34]"
      ]
     },
     "execution_count": 22,
     "metadata": {},
     "output_type": "execute_result"
    }
   ],
   "source": [
    "d9.pop('list') # delete the value of list key"
   ]
  },
  {
   "cell_type": "code",
   "execution_count": 23,
   "id": "9267eb90-9021-4918-b4c7-9cf8ed005aec",
   "metadata": {},
   "outputs": [
    {
     "data": {
      "text/plain": [
       "{'set': {2, 3, 4, 8},\n",
       " 'string': 'prajjwal',\n",
       " 'tuple': (3, 4, 3),\n",
       " 'dictionary': {'key': 'value'}}"
      ]
     },
     "execution_count": 23,
     "metadata": {},
     "output_type": "execute_result"
    }
   ],
   "source": [
    "d9#here list key and value deleted"
   ]
  },
  {
   "cell_type": "code",
   "execution_count": 24,
   "id": "c4e0fa26-8821-4ab5-a565-318e2261f454",
   "metadata": {},
   "outputs": [
    {
     "name": "stdout",
     "output_type": "stream",
     "text": [
      "10\n",
      "10\n"
     ]
    }
   ],
   "source": [
    "m=0\n",
    "s=0\n",
    "for i in range(5):\n",
    "    s+=i\n",
    "    if (s>m):\n",
    "        m=s\n",
    "    elif(m<s):\n",
    "        s=0\n",
    "        \n",
    "print(m)\n",
    "print(s)"
   ]
  },
  {
   "cell_type": "code",
   "execution_count": null,
   "id": "2edb422e-227e-47a1-a5b0-5c2c28e57357",
   "metadata": {},
   "outputs": [],
   "source": []
  }
 ],
 "metadata": {
  "kernelspec": {
   "display_name": "Python 3 (ipykernel)",
   "language": "python",
   "name": "python3"
  },
  "language_info": {
   "codemirror_mode": {
    "name": "ipython",
    "version": 3
   },
   "file_extension": ".py",
   "mimetype": "text/x-python",
   "name": "python",
   "nbconvert_exporter": "python",
   "pygments_lexer": "ipython3",
   "version": "3.10.8"
  }
 },
 "nbformat": 4,
 "nbformat_minor": 5
}
